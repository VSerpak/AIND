{
 "cells": [
  {
   "cell_type": "code",
   "execution_count": 80,
   "metadata": {
    "collapsed": true
   },
   "outputs": [],
   "source": [
    "grid = '9.1....8.8.5.7..4.2.4....6...7......5..............83.3..6......9................'"
   ]
  },
  {
   "cell_type": "code",
   "execution_count": 81,
   "metadata": {
    "collapsed": false
   },
   "outputs": [],
   "source": [
    "rows = 'ABCDEFGHI'\n",
    "cols = '123456789'"
   ]
  },
  {
   "cell_type": "code",
   "execution_count": 82,
   "metadata": {
    "collapsed": true
   },
   "outputs": [],
   "source": [
    "def cross(a, b):\n",
    "    return [s+t for s in a for t in b]"
   ]
  },
  {
   "cell_type": "code",
   "execution_count": 83,
   "metadata": {
    "collapsed": true
   },
   "outputs": [],
   "source": [
    "boxes = cross(rows, cols)"
   ]
  },
  {
   "cell_type": "code",
   "execution_count": 84,
   "metadata": {
    "collapsed": true
   },
   "outputs": [],
   "source": [
    "assignments = []"
   ]
  },
  {
   "cell_type": "code",
   "execution_count": 85,
   "metadata": {
    "collapsed": true
   },
   "outputs": [],
   "source": [
    "def assign_value(values, box, value):\n",
    "    \"\"\"\n",
    "    Please use this function to update your values dictionary!\n",
    "    Assigns a value to a given box. If it updates the board record it.\n",
    "    \"\"\"\n",
    "    values[box] = value\n",
    "    if len(value) == 1:\n",
    "        assignments.append(values.copy())\n",
    "    return values"
   ]
  },
  {
   "cell_type": "code",
   "execution_count": 86,
   "metadata": {
    "collapsed": true
   },
   "outputs": [],
   "source": [
    "# Define diagonal units of a sudoku\n",
    "diagonal_units = [[x+y for x, y in zip(rows, cols)], [x+y for x, y in zip(rows, cols[::-1])]]\n",
    "# And refresh unitlist and peers\n",
    "row_units = [cross(r,cols) for r in rows]\n",
    "col_units = [cross(rows,c) for c in cols]\n",
    "square_units = [cross(rs,cs) for rs in ('ABC','DEF','GHI') for cs in ('123','456','789')]\n",
    "unitlist = row_units +  col_units + square_units + diagonal_units\n",
    "units = dict((s, [u for u in unitlist if s in u]) for s in boxes)\n",
    "peers = dict((s, set(sum(units[s],[]))-set([s])) for s in boxes)"
   ]
  },
  {
   "cell_type": "code",
   "execution_count": 87,
   "metadata": {
    "collapsed": true
   },
   "outputs": [],
   "source": [
    "def display(values):\n",
    "    \"\"\"\n",
    "    Display the values as a 2-D grid.\n",
    "    Input: The sudoku in dictionary form\n",
    "    Output: None\n",
    "    \"\"\"\n",
    "    width = 1 + max(len(values[s]) for s in boxes)\n",
    "    line = '+'.join(['-'*(width*3)]*3)\n",
    "    for r in rows:\n",
    "        print(''.join(values[r+c].center(width)+('|' if c in '36' else '')\n",
    "                      for c in cols))\n",
    "        if r in 'CF': print(line)\n",
    "    return"
   ]
  },
  {
   "cell_type": "code",
   "execution_count": 88,
   "metadata": {
    "collapsed": false
   },
   "outputs": [],
   "source": [
    "def grid_values(grid):\n",
    "    \"\"\"Convert grid string into {<box>: <value>} dict with '.' value for empties.\n",
    "\n",
    "    Args:\n",
    "        grid: Sudoku grid in string form, 81 characters long\n",
    "    Returns:\n",
    "        Sudoku grid in dictionary form:\n",
    "        - keys: Box labels, e.g. 'A1'\n",
    "        - values: Value in corresponding box, e.g. '8', or '.' if it is empty.\n",
    "    \"\"\"\n",
    "    lst = list(enumerate(grid))\n",
    "    ind = list(enumerate(boxes))\n",
    "    num = '123456789'\n",
    "    for i in range(len(lst)):\n",
    "        if lst[i][1] == '.':\n",
    "            lst[i] = (i,num)\n",
    "    val = dict((k[1], [v[1] for v in lst][k[0]]) for k in ind)\n",
    "    return val"
   ]
  },
  {
   "cell_type": "code",
   "execution_count": 89,
   "metadata": {
    "collapsed": true
   },
   "outputs": [],
   "source": [
    "def eliminate(values):\n",
    "    \"\"\"Eliminate values from peers of each box with a single value.\n",
    "\n",
    "    Go through all the boxes, and whenever there is a box with a single value,\n",
    "    eliminate this value from the set of values of all its peers.\n",
    "\n",
    "    Args:\n",
    "        values: Sudoku in dictionary form.\n",
    "    Returns:\n",
    "        Resulting Sudoku in dictionary form after eliminating values.\n",
    "    \"\"\"\n",
    "    solved_values = [box for box in values.keys() if len(values[box]) == 1]\n",
    "#    print(solved_values)\n",
    "    \n",
    "    for box in solved_values:\n",
    "        digit = values[box]\n",
    "        for peer in peers[box]:\n",
    "            values[peer] = values[peer].replace(digit,'')\n",
    "    \n",
    "    return values"
   ]
  },
  {
   "cell_type": "code",
   "execution_count": 90,
   "metadata": {
    "collapsed": true
   },
   "outputs": [],
   "source": [
    "def only_choice(values):\n",
    "    \"\"\"Finalize all values that are the only choice for a unit.\n",
    "\n",
    "    Go through all the units, and whenever there is a unit with a value\n",
    "    that only fits in one box, assign the value to this box.\n",
    "\n",
    "    Input: Sudoku in dictionary form.\n",
    "    Output: Resulting Sudoku in dictionary form after filling in only choices.\n",
    "    \"\"\"\n",
    "    for unit in unitlist:\n",
    "#        print('\\ncurrent unit \\t- {}'.format(unit))\n",
    "        for digit in '123456789':\n",
    "#            print('current digit \\t- {}'.format(digit))\n",
    "            dplaces = [box for box in unit if digit in values[box]]\n",
    "#            print('dplaces in unit \\t- {}'.format(dplaces))\n",
    "#            print('\\n')\n",
    "            if len(dplaces) == 1:\n",
    "                values[dplaces[0]] = digit\n",
    "    return values"
   ]
  },
  {
   "cell_type": "code",
   "execution_count": 92,
   "metadata": {
    "collapsed": false
   },
   "outputs": [],
   "source": [
    "def naked_twins(values):\n",
    "    \"\"\"Eliminate values using the naked twins strategy.\n",
    "    Args:\n",
    "        values(dict): a dictionary of the form {'box_name': '123456789', ...}\n",
    "    Returns:\n",
    "        values(dict): the values dictionary with the naked twins eliminated from peers.\n",
    "    \"\"\"\n",
    "    # Find all instances of naked twins\n",
    "    naked_twin_dict = {}\n",
    "    pair_dict = {}\n",
    "    \n",
    "    for unit in unitlist:\n",
    "        for box in unit:\n",
    "            # Get box value consists of the 2 numbers (candidate)\n",
    "            if len(values[box]) == 2:\n",
    "                for peer in peers:\n",
    "                    if box in peers.get(box): \n",
    "                        if not values[box] in pair_dict:\n",
    "                            pair_dict[values[box]] = [box]\n",
    "                        else:\n",
    "                            if not box in pair_dict[values[box]]:\n",
    "                                pair_dict[values[box]].append(box)\n",
    "\n",
    "    # Examine the dictionary to validate the candidates present as\n",
    "    # naked twin pairs\n",
    "    for key in pair_dict:\n",
    "        if len(pair_dict[key]) == 2:\n",
    "            if not key in naked_twin_dict:\n",
    "                naked_twin_dict[key] = [unit] \n",
    "            else:\n",
    "                naked_twin_dict[key].append(unit)\n",
    "\n",
    "#    if len(naked_twin_dict) != 0:\n",
    "#        print(naked_twin_dict)\n",
    "#    else:\n",
    "#        print('There is no twins in the sudoku.')\n",
    "                    \n",
    "    # Eliminate the naked twins as possibilities for their peers\n",
    "    for key in naked_twin_dict:\n",
    "        for unit in naked_twin_dict[key]:\n",
    "            for box in unit:\n",
    "                if values[box] != key:\n",
    "                    assign_value(values, box, values[box].replace(key[0], ''))\n",
    "                    assign_value(values, box, values[box].replace(key[1], ''))\n",
    "                \n",
    "#    if len(naked_twin_dict) == 0:\n",
    "#        print(\"\\nCaution: No changes have been made after naked_twins(values)!!!\\n\")\n",
    "        \n",
    "    return values\n",
    "#display(naked_twins(values))"
   ]
  },
  {
   "cell_type": "code",
   "execution_count": 75,
   "metadata": {
    "collapsed": false
   },
   "outputs": [],
   "source": [
    "def reduce_puzzle(values):\n",
    "    \"\"\" Iterate eliminate(), naked_twins() and only_choice(). If at some point, there is a box with no available values, return False.\n",
    "    If the sudoku is solved, return the sudoku.\n",
    "    If after an iteration of both functions, the sudoku remains the same, return the sudoku.\n",
    "    Args:\n",
    "        values(dict): A sudoku in dictionary form.\n",
    "    Returns:\n",
    "        values(dict): The resulting sudoku in dictionary form.\n",
    "    \"\"\"\n",
    "    solved_values = [box for box in values.keys() if len(values[box]) == 1]\n",
    "    stalled = False\n",
    "    while not stalled:\n",
    "        solved_values_before = len([box for box in values.keys() if len(values[box]) == 1])\n",
    "        values = eliminate(values)\n",
    "        values = only_choice(values)\n",
    "        solved_values_after = len([box for box in values.keys() if len(values[box]) == 1])\n",
    "        stalled = solved_values_before == solved_values_after\n",
    "        if len([box for box in values.keys() if len(values[box]) == 0]):\n",
    "            return False\n",
    "    return values"
   ]
  },
  {
   "cell_type": "code",
   "execution_count": 93,
   "metadata": {
    "collapsed": true
   },
   "outputs": [],
   "source": [
    "def search(values):\n",
    "    \"Using depth-first search and propagation, try all possible values.\"\n",
    "    # First, reduce the puzzle using the previous function\n",
    "    values = reduce_puzzle(values)\n",
    "    if values is False:\n",
    "        return False ## Failed earlier\n",
    "    if all(len(values[s]) == 1 for s in boxes): \n",
    "        return values ## Solved!\n",
    "    # Choose one of the unfilled squares with the fewest possibilities\n",
    "    n,s = min((len(values[s]), s) for s in boxes if len(values[s]) > 1)\n",
    "#    print('n - {},  s - {}, values_s - {}'.format(n,s,values[s]))\n",
    "    # Now use recurrence to solve each one of the resulting sudokus, and \n",
    "    for value in values[s]:\n",
    "        new_sudoku = values.copy()\n",
    "        new_sudoku[s] = value\n",
    "        attempt = search(new_sudoku)\n",
    "        if attempt:\n",
    "            return attempt"
   ]
  },
  {
   "cell_type": "code",
   "execution_count": 95,
   "metadata": {
    "collapsed": false
   },
   "outputs": [
    {
     "name": "stdout",
     "output_type": "stream",
     "text": [
      "2 6 7 |9 4 5 |3 8 1 \n",
      "8 5 3 |7 1 6 |2 4 9 \n",
      "4 9 1 |8 2 3 |5 7 6 \n",
      "------+------+------\n",
      "5 7 6 |4 3 8 |1 9 2 \n",
      "3 8 4 |1 9 2 |6 5 7 \n",
      "1 2 9 |6 5 7 |4 3 8 \n",
      "------+------+------\n",
      "6 4 2 |3 7 9 |8 1 5 \n",
      "9 3 5 |2 8 1 |7 6 4 \n",
      "7 1 8 |5 6 4 |9 2 3 \n",
      "We could not visualize your board due to a pygame issue. Not a problem! It is not a requirement.\n"
     ]
    }
   ],
   "source": [
    "def solve(grid):\n",
    "    \"\"\"\n",
    "    Find the solution to a Sudoku grid.\n",
    "    Args:\n",
    "        grid(string): a string representing a sudoku grid.\n",
    "            Example: '2.............62....1....7...6..8...3...9...7...6..4...4....8....52.............3'\n",
    "    Returns:\n",
    "        The dictionary representation of the final sudoku grid. False if no solution exists.\n",
    "    \"\"\"\n",
    "    values = grid_values(grid)\n",
    "    values = reduce_puzzle(values)\n",
    "    values = search(values)\n",
    "    values = naked_twins(values)\n",
    "    return values\n",
    "\n",
    "if __name__ == '__main__':\n",
    "    diag_sudoku_grid = '2.............62....1....7...6..8...3...9...7...6..4...4....8....52.............3'\n",
    "    display(solve(diag_sudoku_grid))\n",
    "    \n",
    "    try:\n",
    "        from visualize import visualize_assignments\n",
    "        visualize_assignments(assignments)\n",
    "    except:\n",
    "        print('We could not visualize your board due to a pygame issue. Not a problem! It is not a requirement.')\n"
   ]
  },
  {
   "cell_type": "markdown",
   "metadata": {
    "collapsed": true
   },
   "source": [
    "Uploading submission...\n",
    "[=========================== 100% ===========================] 11507/11507\n",
    "\n",
    "Waiting for results...Done!\n",
    "\n",
    "Results:\n",
    "--------\n",
    "Not all of the tests passed.  Let me see what I can do to help.\n",
    "\n",
    "Your submission failed a test that sees whether the naked_twins method\n",
    "applies the 'naked twins' heuristic.  Your naked_twins function missed\n",
    "a set of naked_twins.  Try the following example and see what happens:\n",
    "\n",
    "{\"G7\": \"1234568\", \"G6\": \"9\", \"G5\": \"35678\", \"G4\": \"23678\", \"G3\":\n",
    "\"245678\", \"G2\": \"123568\", \"G1\": \"1234678\", \"G9\": \"12345678\", \"G8\":\n",
    "\"1234567\", \"C9\": \"13456\", \"C8\": \"13456\", \"C3\": \"4678\", \"C2\": \"68\",\n",
    "\"C1\": \"4678\", \"C7\": \"13456\", \"C6\": \"368\", \"C5\": \"2\", \"A4\": \"5\", \"A9\":\n",
    "\"2346\", \"A8\": \"2346\", \"F1\": \"123689\", \"F2\": \"7\", \"F3\": \"25689\", \"F4\":\n",
    "\"23468\", \"F5\": \"1345689\", \"F6\": \"23568\", \"F7\": \"1234568\", \"F8\":\n",
    "\"1234569\", \"F9\": \"1234568\", \"B4\": \"46\", \"B5\": \"46\", \"B6\": \"1\", \"B7\":\n",
    "\"7\", \"E9\": \"12345678\", \"B1\": \"5\", \"B2\": \"2\", \"B3\": \"3\", \"C4\": \"9\",\n",
    "\"B8\": \"8\", \"B9\": \"9\", \"I9\": \"1235678\", \"I8\": \"123567\", \"I1\": \"123678\",\n",
    "\"I3\": \"25678\", \"I2\": \"123568\", \"I5\": \"35678\", \"I4\": \"23678\", \"I7\":\n",
    "\"9\", \"I6\": \"4\", \"A1\": \"2468\", \"A3\": \"1\", \"A2\": \"9\", \"A5\": \"3468\",\n",
    "\"E8\": \"12345679\", \"A7\": \"2346\", \"A6\": \"7\", \"E5\": \"13456789\", \"E4\":\n",
    "\"234678\", \"E7\": \"1234568\", \"E6\": \"23568\", \"E1\": \"123689\", \"E3\":\n",
    "\"25689\", \"E2\": \"123568\", \"H8\": \"234567\", \"H9\": \"2345678\", \"H2\":\n",
    "\"23568\", \"H3\": \"2456789\", \"H1\": \"2346789\", \"H6\": \"23568\", \"H7\":\n",
    "\"234568\", \"H4\": \"1\", \"H5\": \"35678\", \"D8\": \"1235679\", \"D9\": \"1235678\",\n",
    "\"D6\": \"23568\", \"D7\": \"123568\", \"D4\": \"23678\", \"D5\": \"1356789\", \"D2\":\n",
    "\"4\", \"D3\": \"25689\", \"D1\": \"123689\"}\n",
    "\n",
    "Details are available in sudoku-result-31616.json."
   ]
  },
  {
   "cell_type": "markdown",
   "metadata": {},
   "source": [
    "Ok. I'm trying."
   ]
  },
  {
   "cell_type": "code",
   "execution_count": 96,
   "metadata": {
    "collapsed": false
   },
   "outputs": [
    {
     "name": "stdout",
     "output_type": "stream",
     "text": [
      "8 9 1 |5 3 7 |2 6 4 \n",
      "5 2 3 |4 6 1 |7 8 9 \n",
      "7 6 4 |9 2 8 |1 3 5 \n",
      "------+------+------\n",
      "3 4 2 |7 1 5 |8 9 6 \n",
      "1 5 6 |8 9 3 |4 7 2 \n",
      "9 7 8 |2 4 6 |5 1 3 \n",
      "------+------+------\n",
      "2 1 7 |6 5 9 |3 4 8 \n",
      "4 3 9 |1 8 2 |6 5 7 \n",
      "6 8 5 |3 7 4 |9 2 1 \n",
      "We could not visualize your board due to a pygame issue. Not a problem! It is not a requirement.\n"
     ]
    }
   ],
   "source": [
    "def solve(grid):\n",
    "    \"\"\"\n",
    "    Find the solution to a Sudoku grid.\n",
    "    Args:\n",
    "        grid(string): a string representing a sudoku grid.\n",
    "            Example: '2.............62....1....7...6..8...3...9...7...6..4...4....8....52.............3'\n",
    "    Returns:\n",
    "        The dictionary representation of the final sudoku grid. False if no solution exists.\n",
    "    \"\"\"\n",
    "    values = {\"G7\": \"1234568\", \"G6\": \"9\", \"G5\": \"35678\", \"G4\": \"23678\", \"G3\":\"245678\", \"G2\":\"123568\", \"G1\": \"1234678\", \"G9\": \"12345678\", \"G8\":\"1234567\", \"C9\": \"13456\", \"C8\": \"13456\", \"C3\": \"4678\", \"C2\": \"68\",\"C1\": \"4678\", \"C7\": \"13456\", \"C6\": \"368\", \"C5\": \"2\", \"A4\": \"5\", \"A9\":\"2346\", \"A8\": \"2346\", \"F1\": \"123689\", \"F2\": \"7\", \"F3\": \"25689\", \"F4\":\"23468\", \"F5\": \"1345689\", \"F6\": \"23568\", \"F7\": \"1234568\", \"F8\":\"1234569\", \"F9\": \"1234568\", \"B4\": \"46\", \"B5\": \"46\", \"B6\": \"1\", \"B7\":\"7\", \"E9\": \"12345678\", \"B1\": \"5\", \"B2\": \"2\", \"B3\": \"3\", \"C4\": \"9\",\"B8\": \"8\", \"B9\": \"9\", \"I9\": \"1235678\", \"I8\": \"123567\", \"I1\": \"123678\",\"I3\": \"25678\", \"I2\": \"123568\", \"I5\": \"35678\", \"I4\": \"23678\", \"I7\":\"9\", \"I6\": \"4\", \"A1\": \"2468\", \"A3\": \"1\", \"A2\": \"9\", \"A5\": \"3468\",\"E8\": \"12345679\", \"A7\": \"2346\", \"A6\": \"7\", \"E5\": \"13456789\", \"E4\":\"234678\", \"E7\": \"1234568\", \"E6\": \"23568\", \"E1\": \"123689\", \"E3\":\"25689\", \"E2\": \"123568\", \"H8\": \"234567\", \"H9\": \"2345678\", \"H2\":\"23568\", \"H3\": \"2456789\", \"H1\": \"2346789\", \"H6\": \"23568\", \"H7\":\"234568\", \"H4\": \"1\", \"H5\": \"35678\", \"D8\": \"1235679\", \"D9\": \"1235678\",\"D6\": \"23568\", \"D7\": \"123568\", \"D4\": \"23678\", \"D5\": \"1356789\", \"D2\":\"4\", \"D3\": \"25689\", \"D1\": \"123689\"}\n",
    "#    values = grid_values(grid)\n",
    "    values = reduce_puzzle(values)\n",
    "    values = search(values)\n",
    "    values = naked_twins(values)\n",
    "    return values\n",
    "\n",
    "if __name__ == '__main__':\n",
    "    diag_sudoku_grid = '2.............62....1....7...6..8...3...9...7...6..4...4....8....52.............3'\n",
    "    display(solve(diag_sudoku_grid))\n",
    "    \n",
    "    try:\n",
    "        from visualize import visualize_assignments\n",
    "        visualize_assignments(assignments)\n",
    "    except:\n",
    "        print('We could not visualize your board due to a pygame issue. Not a problem! It is not a requirement.')\n"
   ]
  },
  {
   "cell_type": "markdown",
   "metadata": {},
   "source": [
    "And what is the difference? Both of them have been giving the good result!\n",
    "\n",
    "But when I simplify naked_twins(values) without checking the peers (that i think is not correct) like this"
   ]
  },
  {
   "cell_type": "code",
   "execution_count": 101,
   "metadata": {
    "collapsed": false
   },
   "outputs": [],
   "source": [
    "def naked_twins(values):\n",
    "    \"\"\"Eliminate values using the naked twins strategy.\n",
    "    Args:\n",
    "        values(dict): a dictionary of the form {'box_name': '123456789', ...}\n",
    "    Returns:\n",
    "        values(dict): the values dictionary with the naked twins eliminated from peers.\n",
    "    \"\"\"\n",
    "    # Find all instances of naked twins\n",
    "    naked_twin_dict = {}\n",
    "    for unit in unitlist:\n",
    "        # Build a dictionary for identified naked twin pair\n",
    "        pair_dict = {}\n",
    "        for box in unit:\n",
    "            # Identify box - a candidate for a naked twin with 2 numbers\n",
    "            if len(values[box]) == 2:\n",
    "                if not values[box] in pair_dict:\n",
    "                    pair_dict[values[box]] = [box]\n",
    "                else:\n",
    "                    pair_dict[values[box]].append(box)\n",
    "        # Examine the dictionary to validate the candidates present as\n",
    "        # naked twin pairs\n",
    "        for key in pair_dict:\n",
    "            # Condition for the candidate to be a naked twin pair\n",
    "            if len(pair_dict[key]) == 2:\n",
    "                if not key in naked_twin_dict:\n",
    "                    naked_twin_dict[key] = [unit]\n",
    "                else:\n",
    "                    naked_twin_dict[key].append(unit)\n",
    "\n",
    "    # Eliminate the naked twins as possibilities for their peers\n",
    "    for key in naked_twin_dict:\n",
    "        for unit in naked_twin_dict[key]:\n",
    "            for box in unit:\n",
    "                if values[box] != key:\n",
    "                    assign_value(values, box, values[box].replace(key[0], ''))\n",
    "                    assign_value(values, box, values[box].replace(key[1], ''))\n",
    "    return values\n"
   ]
  },
  {
   "cell_type": "markdown",
   "metadata": {},
   "source": [
    "the test was passed and my project was submitted and reviewed successfully"
   ]
  },
  {
   "cell_type": "markdown",
   "metadata": {},
   "source": [
    "Uploading submission...\n",
    "[=========================== 100% ===========================] 11008/11008\n",
    "\n",
    "Waiting for results...Done!\n",
    "\n",
    "Results:\n",
    "--------\n",
    "LGTM!  If your code is well commented, feel free to submit to the\n",
    "reviewers and see what they have to say.\n",
    "(https://review.udacity.com/#!/rubrics/689/submit-zip)\n",
    "\n",
    "\n",
    "Details are available in sudoku-result-31647.json.\n",
    "\n",
    "If you would like this version of the project to be reviewed,\n",
    "submit sudoku-31647.zip to the reviews website."
   ]
  },
  {
   "cell_type": "code",
   "execution_count": null,
   "metadata": {
    "collapsed": true
   },
   "outputs": [],
   "source": []
  }
 ],
 "metadata": {
  "kernelspec": {
   "display_name": "Python 3",
   "language": "python",
   "name": "python3"
  },
  "language_info": {
   "codemirror_mode": {
    "name": "ipython",
    "version": 3
   },
   "file_extension": ".py",
   "mimetype": "text/x-python",
   "name": "python",
   "nbconvert_exporter": "python",
   "pygments_lexer": "ipython3",
   "version": "3.6.0"
  }
 },
 "nbformat": 4,
 "nbformat_minor": 2
}
