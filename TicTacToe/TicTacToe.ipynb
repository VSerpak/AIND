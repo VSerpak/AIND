{
 "cells": [
  {
   "cell_type": "code",
   "execution_count": 1,
   "metadata": {
    "collapsed": false
   },
   "outputs": [],
   "source": [
    "from collections import namedtuple\n",
    "GameState = namedtuple(\"GameState\",('to_move, utility, board, moves'))"
   ]
  },
  {
   "cell_type": "code",
   "execution_count": 2,
   "metadata": {
    "collapsed": false
   },
   "outputs": [],
   "source": [
    "class TicTacToe():\n",
    "    def __init__(self, h=3, k=3, v=3):\n",
    "        self.h = h\n",
    "        self.k = k\n",
    "        self.v = v\n",
    "        \n",
    "        moves = [(x,y) for x in range(1, h+1)\n",
    "                for y in range(1, v+1)]\n",
    "        \n",
    "        self.initial = GameState(to_move='X', utility=0, board={}, moves=moves)\n",
    "        \n",
    "    def display(self, state):\n",
    "        board = state.board\n",
    "        for x in range(1, self.h+1):\n",
    "            for y in range(1, self.v+1):\n",
    "                print(board.get((x,y),'.'), end=' ')\n",
    "            print()"
   ]
  },
  {
   "cell_type": "code",
   "execution_count": 3,
   "metadata": {
    "collapsed": false
   },
   "outputs": [],
   "source": [
    "ttt = TicTacToe()"
   ]
  },
  {
   "cell_type": "code",
   "execution_count": 4,
   "metadata": {
    "collapsed": false
   },
   "outputs": [
    {
     "data": {
      "text/plain": [
       "GameState(to_move='X', utility=0, board={}, moves=[(1, 1), (1, 2), (1, 3), (2, 1), (2, 2), (2, 3), (3, 1), (3, 2), (3, 3)])"
      ]
     },
     "execution_count": 4,
     "metadata": {},
     "output_type": "execute_result"
    }
   ],
   "source": [
    "ini_state = ttt.initial\n",
    "ini_state"
   ]
  },
  {
   "cell_type": "code",
   "execution_count": 5,
   "metadata": {
    "collapsed": false
   },
   "outputs": [
    {
     "name": "stdout",
     "output_type": "stream",
     "text": [
      ". . . \n",
      ". . . \n",
      ". . . \n"
     ]
    }
   ],
   "source": [
    "ttt.display(ini_state)"
   ]
  },
  {
   "cell_type": "code",
   "execution_count": 6,
   "metadata": {
    "collapsed": false
   },
   "outputs": [
    {
     "data": {
      "text/plain": [
       "'X'"
      ]
     },
     "execution_count": 6,
     "metadata": {},
     "output_type": "execute_result"
    }
   ],
   "source": [
    "ini_state.to_move"
   ]
  },
  {
   "cell_type": "code",
   "execution_count": 7,
   "metadata": {
    "collapsed": true
   },
   "outputs": [],
   "source": [
    "def random_player(game, state):\n",
    "    return random.choice(game.actions(state))"
   ]
  },
  {
   "cell_type": "code",
   "execution_count": 8,
   "metadata": {
    "collapsed": false
   },
   "outputs": [
    {
     "ename": "AttributeError",
     "evalue": "'TicTacToe' object has no attribute 'actions'",
     "output_type": "error",
     "traceback": [
      "\u001b[0;31m---------------------------------------------------------------------------\u001b[0m",
      "\u001b[0;31mAttributeError\u001b[0m                            Traceback (most recent call last)",
      "\u001b[0;32m<ipython-input-8-28f0f8c8f6d7>\u001b[0m in \u001b[0;36m<module>\u001b[0;34m()\u001b[0m\n\u001b[1;32m      1\u001b[0m \u001b[1;32mimport\u001b[0m \u001b[0mrandom\u001b[0m\u001b[1;33m\u001b[0m\u001b[0m\n\u001b[0;32m----> 2\u001b[0;31m \u001b[0mrandom_player\u001b[0m\u001b[1;33m(\u001b[0m\u001b[0mttt\u001b[0m\u001b[1;33m,\u001b[0m \u001b[0mini_state\u001b[0m\u001b[1;33m)\u001b[0m\u001b[1;33m\u001b[0m\u001b[0m\n\u001b[0m",
      "\u001b[0;32m<ipython-input-7-a1dc6d42e0ad>\u001b[0m in \u001b[0;36mrandom_player\u001b[0;34m(game, state)\u001b[0m\n\u001b[1;32m      1\u001b[0m \u001b[1;32mdef\u001b[0m \u001b[0mrandom_player\u001b[0m\u001b[1;33m(\u001b[0m\u001b[0mgame\u001b[0m\u001b[1;33m,\u001b[0m \u001b[0mstate\u001b[0m\u001b[1;33m)\u001b[0m\u001b[1;33m:\u001b[0m\u001b[1;33m\u001b[0m\u001b[0m\n\u001b[0;32m----> 2\u001b[0;31m     \u001b[1;32mreturn\u001b[0m \u001b[0mrandom\u001b[0m\u001b[1;33m.\u001b[0m\u001b[0mchoice\u001b[0m\u001b[1;33m(\u001b[0m\u001b[0mgame\u001b[0m\u001b[1;33m.\u001b[0m\u001b[0mactions\u001b[0m\u001b[1;33m(\u001b[0m\u001b[0mstate\u001b[0m\u001b[1;33m)\u001b[0m\u001b[1;33m)\u001b[0m\u001b[1;33m\u001b[0m\u001b[0m\n\u001b[0m",
      "\u001b[0;31mAttributeError\u001b[0m: 'TicTacToe' object has no attribute 'actions'"
     ]
    }
   ],
   "source": [
    "import random\n",
    "random_player(ttt, ini_state)"
   ]
  },
  {
   "cell_type": "code",
   "execution_count": 9,
   "metadata": {
    "collapsed": false
   },
   "outputs": [],
   "source": [
    "class TicTacToe():\n",
    "    def __init__(self, h=3, k=3, v=3):\n",
    "        self.h = h\n",
    "        self.k = k\n",
    "        self.v = v\n",
    "        \n",
    "        moves = [(x,y) for x in range(1, h+1)\n",
    "                for y in range(1, v+1)]\n",
    "        \n",
    "        self.board = {k:\".\" for k in moves}\n",
    "        \n",
    "        self.initial = GameState(to_move='X', utility=0, board=self.board, moves=moves)\n",
    "        print(self.initial)\n",
    "        \n",
    "    def display(self, state):\n",
    "        board = state.board\n",
    "        for x in range(1, self.h+1):\n",
    "            for y in range(1, self.v+1):\n",
    "                print(board.get((x,y),'.'), end=' ')\n",
    "            print()\n",
    "            \n",
    "    def actions(self, state):\n",
    "        return state.moves\n",
    "    \n",
    "    def result(self, state, moves, move):\n",
    "        if move not in state.moves:\n",
    "            return GameState(to_move=('O' if state.to_move == 'X' else 'X'),\n",
    "                            board=state.board, moves=state.moves,\n",
    "                            utility=self.compute_utility(state.board, move, state.to_move))\n",
    "        board = state.board.copy()\n",
    "        self.board[move] = state.to_move\n",
    "        moves.remove(move)\n",
    "        \n",
    "        return GameState(to_move=('O' if state.to_move == 'X' else 'X'),\n",
    "                            board=state.board, moves=state.moves,\n",
    "                            utility=self.compute_utility(state.board, move, state.to_move))\n",
    "    \n",
    "    def compute_utility(self, board, move, player):\n",
    "        \"\"\"If 'X' wins with this move, return 1; if 'O' wins return -1; else return 0.\"\"\"\n",
    "        if (self.k_in_row(board, move, player, (1, 0)) or\n",
    "                self.k_in_row(board, move, player, (0, 1)) or\n",
    "                self.k_in_row(board, move, player, (1, 1)) or\n",
    "                self.k_in_row(board, move, player, (1, -1))):\n",
    "            \n",
    "            return +1 if player == 'X' else -1\n",
    "        else:\n",
    "            return 0\n",
    "        \n",
    "    def k_in_row(self, board, move, player, delta_x_y):\n",
    "        \"\"\"Return true if there is a line through move on board for player.\"\"\"\n",
    "        (delta_x, delta_y) = delta_x_y\n",
    "        x, y = move\n",
    "        n = 0  # n is number of moves in row\n",
    "        while board.get((x, y)) == player:\n",
    "            n += 1\n",
    "            x, y = x + delta_x, y + delta_y\n",
    "        x, y = move\n",
    "        while board.get((x, y)) == player:\n",
    "            n += 1\n",
    "            x, y = x - delta_x, y - delta_y\n",
    "        n -= 1  # Because we counted move itself twice\n",
    "        return n >= self.k\n",
    "    \n",
    "    def utility(self, state, player):\n",
    "        \"\"\"Return the value to player; 1 for win, -1 for loss, 0 otherwise.\"\"\"\n",
    "        return state.utility if player == 'X' else -state.utility\n",
    "\n",
    "    def terminal_test(self, state):\n",
    "        \"\"\"A state is terminal if it is won or there are no empty squares.\"\"\"\n",
    "        return state.utility != 0 or len(state.moves) == 0\n",
    "\n"
   ]
  },
  {
   "cell_type": "code",
   "execution_count": 10,
   "metadata": {
    "collapsed": false
   },
   "outputs": [
    {
     "name": "stdout",
     "output_type": "stream",
     "text": [
      "GameState(to_move='X', utility=0, board={(1, 1): '.', (1, 2): '.', (1, 3): '.', (2, 1): '.', (2, 2): '.', (2, 3): '.', (3, 1): '.', (3, 2): '.', (3, 3): '.'}, moves=[(1, 1), (1, 2), (1, 3), (2, 1), (2, 2), (2, 3), (3, 1), (3, 2), (3, 3)])\n"
     ]
    }
   ],
   "source": [
    "ttt = TicTacToe()"
   ]
  },
  {
   "cell_type": "code",
   "execution_count": 11,
   "metadata": {
    "collapsed": false
   },
   "outputs": [],
   "source": [
    "ini_state = ttt.initial"
   ]
  },
  {
   "cell_type": "code",
   "execution_count": 12,
   "metadata": {
    "collapsed": false
   },
   "outputs": [
    {
     "name": "stdout",
     "output_type": "stream",
     "text": [
      ". . . \n",
      ". . . \n",
      ". . . \n"
     ]
    }
   ],
   "source": [
    "ttt.display(ini_state)"
   ]
  },
  {
   "cell_type": "code",
   "execution_count": 13,
   "metadata": {
    "collapsed": false
   },
   "outputs": [
    {
     "data": {
      "text/plain": [
       "(1, 2)"
      ]
     },
     "execution_count": 13,
     "metadata": {},
     "output_type": "execute_result"
    }
   ],
   "source": [
    "random_player(ttt, ini_state)"
   ]
  },
  {
   "cell_type": "code",
   "execution_count": 14,
   "metadata": {
    "collapsed": false
   },
   "outputs": [
    {
     "data": {
      "text/plain": [
       "(2, 1)"
      ]
     },
     "execution_count": 14,
     "metadata": {},
     "output_type": "execute_result"
    }
   ],
   "source": [
    "random_player(ttt, ini_state)"
   ]
  },
  {
   "cell_type": "code",
   "execution_count": 15,
   "metadata": {
    "collapsed": false
   },
   "outputs": [
    {
     "data": {
      "text/plain": [
       "(1, 1)"
      ]
     },
     "execution_count": 15,
     "metadata": {},
     "output_type": "execute_result"
    }
   ],
   "source": [
    "move = random_player(ttt, ini_state)\n",
    "move"
   ]
  },
  {
   "cell_type": "code",
   "execution_count": 16,
   "metadata": {
    "collapsed": false
   },
   "outputs": [
    {
     "data": {
      "text/plain": [
       "[(1, 1), (1, 2), (1, 3), (2, 1), (2, 2), (2, 3), (3, 1), (3, 2), (3, 3)]"
      ]
     },
     "execution_count": 16,
     "metadata": {},
     "output_type": "execute_result"
    }
   ],
   "source": [
    "ini_state.moves"
   ]
  },
  {
   "cell_type": "code",
   "execution_count": 17,
   "metadata": {
    "collapsed": false
   },
   "outputs": [],
   "source": [
    "ini_state = ttt.result(ini_state, ini_state.moves, move)"
   ]
  },
  {
   "cell_type": "code",
   "execution_count": 18,
   "metadata": {
    "collapsed": false
   },
   "outputs": [
    {
     "data": {
      "text/plain": [
       "GameState(to_move='O', utility=0, board={(1, 1): 'X', (1, 2): '.', (1, 3): '.', (2, 1): '.', (2, 2): '.', (2, 3): '.', (3, 1): '.', (3, 2): '.', (3, 3): '.'}, moves=[(1, 2), (1, 3), (2, 1), (2, 2), (2, 3), (3, 1), (3, 2), (3, 3)])"
      ]
     },
     "execution_count": 18,
     "metadata": {},
     "output_type": "execute_result"
    }
   ],
   "source": [
    "ini_state"
   ]
  },
  {
   "cell_type": "code",
   "execution_count": 19,
   "metadata": {
    "collapsed": false
   },
   "outputs": [
    {
     "data": {
      "text/plain": [
       "{(1, 1): 'X',\n",
       " (1, 2): '.',\n",
       " (1, 3): '.',\n",
       " (2, 1): '.',\n",
       " (2, 2): '.',\n",
       " (2, 3): '.',\n",
       " (3, 1): '.',\n",
       " (3, 2): '.',\n",
       " (3, 3): '.'}"
      ]
     },
     "execution_count": 19,
     "metadata": {},
     "output_type": "execute_result"
    }
   ],
   "source": [
    "ttt.board"
   ]
  },
  {
   "cell_type": "code",
   "execution_count": 20,
   "metadata": {
    "collapsed": false
   },
   "outputs": [
    {
     "name": "stdout",
     "output_type": "stream",
     "text": [
      "X . . \n",
      ". . . \n",
      ". . . \n"
     ]
    }
   ],
   "source": [
    "ttt.display(ini_state)"
   ]
  },
  {
   "cell_type": "code",
   "execution_count": 21,
   "metadata": {
    "collapsed": true
   },
   "outputs": [],
   "source": [
    "class TicTacToe():\n",
    "    def __init__(self, h=3, k=3, v=3):\n",
    "        self.h = h\n",
    "        self.k = k\n",
    "        self.v = v\n",
    "        \n",
    "        moves = [(x,y) for x in range(1, h+1)\n",
    "                for y in range(1, v+1)]\n",
    "        \n",
    "        self.board = {k:\".\" for k in moves}\n",
    "        \n",
    "        self.initial = GameState(to_move='X', utility=0, board=self.board, moves=moves)\n",
    "        print(self.initial)\n",
    "        \n",
    "    def display(self, state):\n",
    "        board = state.board\n",
    "        for x in range(1, self.h+1):\n",
    "            for y in range(1, self.v+1):\n",
    "                print(board.get((x,y),'.'), end=' ')\n",
    "            print()\n",
    "            \n",
    "    def actions(self, state):\n",
    "        return state.moves\n",
    "    \n",
    "    def disp_result(self, state, move):\n",
    "        if move not in state.moves:\n",
    "            return GameState(to_move=('O' if state.to_move == 'X' else 'X'),\n",
    "                            board=state.board, moves=state.moves,\n",
    "                            utility=self.compute_utility(state.board, move, state.to_move))\n",
    "        board = state.board.copy()\n",
    "        board[move] = state.to_move\n",
    "        moves = list(state.moves)\n",
    "        moves.remove(move)\n",
    "        \n",
    "        return GameState(to_move=('O' if state.to_move == 'X' else 'X'),\n",
    "                            board=state.board, moves=state.moves,\n",
    "                            utility=self.compute_utility(board, move, state.to_move))\n",
    "    \n",
    "    def result(self, state, moves, move):\n",
    "        if move not in state.moves:\n",
    "            return GameState(to_move=('O' if state.to_move == 'X' else 'X'),\n",
    "                            board=state.board, moves=state.moves,\n",
    "                            utility=self.compute_utility(state.board, move, state.to_move))\n",
    "        board = state.board.copy()\n",
    "        self.board[move] = state.to_move\n",
    "        moves.remove(move)\n",
    "        \n",
    "        return GameState(to_move=('O' if state.to_move == 'X' else 'X'),\n",
    "                            board=state.board, moves=state.moves,\n",
    "                            utility=self.compute_utility(state.board, move, state.to_move))\n",
    "    def compute_utility(self, board, move, player):\n",
    "        \"\"\"If 'X' wins with this move, return 1; if 'O' wins return -1; else return 0.\"\"\"\n",
    "        if (self.k_in_row(board, move, player, (1, 0)) or\n",
    "                self.k_in_row(board, move, player, (0, 1)) or\n",
    "                self.k_in_row(board, move, player, (1, 1)) or\n",
    "                self.k_in_row(board, move, player, (1, -1))):\n",
    "            \n",
    "            return +1 if player == 'X' else -1\n",
    "        else:\n",
    "            return 0\n",
    "        \n",
    "    def k_in_row(self, board, move, player, delta_x_y):\n",
    "        \"\"\"Return true if there is a line through move on board for player.\"\"\"\n",
    "        (delta_x, delta_y) = delta_x_y\n",
    "        x, y = move\n",
    "        n = 0  # n is number of moves in row\n",
    "        while board.get((x, y)) == player:\n",
    "            n += 1\n",
    "            x, y = x + delta_x, y + delta_y\n",
    "        x, y = move\n",
    "        while board.get((x, y)) == player:\n",
    "            n += 1\n",
    "            x, y = x - delta_x, y - delta_y\n",
    "        n -= 1  # Because we counted move itself twice\n",
    "        return n >= self.k\n",
    "    \n",
    "    def utility(self, state, player):\n",
    "        \"\"\"Return the value to player; 1 for win, -1 for loss, 0 otherwise.\"\"\"\n",
    "        return state.utility if player == 'X' else -state.utility\n",
    "\n",
    "    def terminal_test(self, state):\n",
    "        \"\"\"A state is terminal if it is won or there are no empty squares.\"\"\"\n",
    "        return state.utility != 0 or len(state.moves) == 0\n",
    "\n",
    "    def to_move(self, state):\n",
    "        \"\"\"Return the player whose move it is in this state.\"\"\"\n",
    "        return state.to_move\n"
   ]
  },
  {
   "cell_type": "code",
   "execution_count": 22,
   "metadata": {
    "collapsed": false
   },
   "outputs": [
    {
     "name": "stdout",
     "output_type": "stream",
     "text": [
      "GameState(to_move='X', utility=0, board={(1, 1): '.', (1, 2): '.', (1, 3): '.', (2, 1): '.', (2, 2): '.', (2, 3): '.', (3, 1): '.', (3, 2): '.', (3, 3): '.'}, moves=[(1, 1), (1, 2), (1, 3), (2, 1), (2, 2), (2, 3), (3, 1), (3, 2), (3, 3)])\n"
     ]
    }
   ],
   "source": [
    "ttt = TicTacToe()\n",
    "ini_state = ttt.initial"
   ]
  },
  {
   "cell_type": "code",
   "execution_count": 23,
   "metadata": {
    "collapsed": false
   },
   "outputs": [
    {
     "name": "stdout",
     "output_type": "stream",
     "text": [
      ". . . \n",
      ". . . \n",
      ". . . \n"
     ]
    }
   ],
   "source": [
    "ttt.display(ini_state)"
   ]
  },
  {
   "cell_type": "code",
   "execution_count": 24,
   "metadata": {
    "collapsed": false
   },
   "outputs": [
    {
     "data": {
      "text/plain": [
       "(2, 2)"
      ]
     },
     "execution_count": 24,
     "metadata": {},
     "output_type": "execute_result"
    }
   ],
   "source": [
    "move = random_player(ttt, ini_state)\n",
    "move"
   ]
  },
  {
   "cell_type": "code",
   "execution_count": 25,
   "metadata": {
    "collapsed": true
   },
   "outputs": [],
   "source": [
    "ini_state = ttt.result(ini_state, ini_state.moves, move)"
   ]
  },
  {
   "cell_type": "code",
   "execution_count": 26,
   "metadata": {
    "collapsed": false
   },
   "outputs": [
    {
     "name": "stdout",
     "output_type": "stream",
     "text": [
      ". . . \n",
      ". X . \n",
      ". . . \n"
     ]
    }
   ],
   "source": [
    "ttt.display(ini_state)"
   ]
  },
  {
   "cell_type": "markdown",
   "metadata": {},
   "source": [
    "<img src='Images/pceudo_code_minimax_alg.png' width=70%>"
   ]
  },
  {
   "cell_type": "code",
   "execution_count": 27,
   "metadata": {
    "collapsed": true
   },
   "outputs": [],
   "source": [
    "infinity = float('inf')\n",
    "def alphabeta_player(game, state):\n",
    "    return alphabeta_full_search(state, game)"
   ]
  },
  {
   "cell_type": "code",
   "execution_count": 28,
   "metadata": {
    "collapsed": false
   },
   "outputs": [
    {
     "ename": "NameError",
     "evalue": "name 'alphabeta_full_search' is not defined",
     "output_type": "error",
     "traceback": [
      "\u001b[0;31m---------------------------------------------------------------------------\u001b[0m",
      "\u001b[0;31mNameError\u001b[0m                                 Traceback (most recent call last)",
      "\u001b[0;32m<ipython-input-28-e5a4385dcab4>\u001b[0m in \u001b[0;36m<module>\u001b[0;34m()\u001b[0m\n\u001b[0;32m----> 1\u001b[0;31m \u001b[0mmove\u001b[0m \u001b[1;33m=\u001b[0m \u001b[0malphabeta_player\u001b[0m\u001b[1;33m(\u001b[0m\u001b[0mttt\u001b[0m\u001b[1;33m,\u001b[0m \u001b[0mini_state\u001b[0m\u001b[1;33m)\u001b[0m\u001b[1;33m\u001b[0m\u001b[0m\n\u001b[0m\u001b[1;32m      2\u001b[0m \u001b[0mmove\u001b[0m\u001b[1;33m\u001b[0m\u001b[0m\n",
      "\u001b[0;32m<ipython-input-27-bd2f38eb004a>\u001b[0m in \u001b[0;36malphabeta_player\u001b[0;34m(game, state)\u001b[0m\n\u001b[1;32m      1\u001b[0m \u001b[0minfinity\u001b[0m \u001b[1;33m=\u001b[0m \u001b[0mfloat\u001b[0m\u001b[1;33m(\u001b[0m\u001b[1;34m'inf'\u001b[0m\u001b[1;33m)\u001b[0m\u001b[1;33m\u001b[0m\u001b[0m\n\u001b[1;32m      2\u001b[0m \u001b[1;32mdef\u001b[0m \u001b[0malphabeta_player\u001b[0m\u001b[1;33m(\u001b[0m\u001b[0mgame\u001b[0m\u001b[1;33m,\u001b[0m \u001b[0mstate\u001b[0m\u001b[1;33m)\u001b[0m\u001b[1;33m:\u001b[0m\u001b[1;33m\u001b[0m\u001b[0m\n\u001b[0;32m----> 3\u001b[0;31m     \u001b[1;32mreturn\u001b[0m \u001b[0malphabeta_full_search\u001b[0m\u001b[1;33m(\u001b[0m\u001b[0mstate\u001b[0m\u001b[1;33m,\u001b[0m \u001b[0mgame\u001b[0m\u001b[1;33m)\u001b[0m\u001b[1;33m\u001b[0m\u001b[0m\n\u001b[0m",
      "\u001b[0;31mNameError\u001b[0m: name 'alphabeta_full_search' is not defined"
     ]
    }
   ],
   "source": [
    "move = alphabeta_player(ttt, ini_state)\n",
    "move"
   ]
  },
  {
   "cell_type": "code",
   "execution_count": 29,
   "metadata": {
    "collapsed": false
   },
   "outputs": [],
   "source": [
    "def alphabeta_full_search(state, game, d=4, cutoff_test=None, eval_fn=None):\n",
    "    \"\"\"Search game to determine best action; use alpha-beta pruning.\n",
    "    This version cuts off search and uses an evaluation function.\"\"\"\n",
    "\n",
    "    player = game.to_move(state)\n",
    "\n",
    "    # Functions used by alphabeta\n",
    "    def max_value(state, alpha, beta, depth):\n",
    "        if cutoff_test(state, depth):\n",
    "            return eval_fn(state)\n",
    "        v = -infinity\n",
    "        for a in game.actions(state):\n",
    "            v = max(v, min_value(game.disp_result(state, a),\n",
    "                                 alpha, beta, depth + 1))\n",
    "            if v >= beta:\n",
    "                return v\n",
    "            alpha = max(alpha, v)\n",
    "        return v\n",
    "\n",
    "    def min_value(state, alpha, beta, depth):\n",
    "        if cutoff_test(state, depth):\n",
    "            return eval_fn(state)\n",
    "        v = infinity\n",
    "        for a in game.actions(state):\n",
    "            v = min(v, max_value(game.disp_result(state, a),\n",
    "                                 alpha, beta, depth + 1))\n",
    "            if v <= alpha:\n",
    "                return v\n",
    "            beta = min(beta, v)\n",
    "        return v\n",
    "\n",
    "    # Body of alphabeta_search starts here:\n",
    "    # The default test cuts off at depth d or at a terminal state\n",
    "    cutoff_test = (cutoff_test or\n",
    "                   (lambda state, depth: depth > d or\n",
    "                    game.terminal_test(state)))\n",
    "    eval_fn = eval_fn or (lambda state: game.utility(state, player))\n",
    "    best_score = -infinity\n",
    "    beta = infinity\n",
    "    best_action = None\n",
    "    for a in game.actions(state):\n",
    "        v = min_value(game.disp_result(state, a), best_score, beta, 1)\n",
    "        if v > best_score:\n",
    "            best_score = v\n",
    "            best_action = a\n",
    "    return best_action\n"
   ]
  },
  {
   "cell_type": "code",
   "execution_count": 30,
   "metadata": {
    "collapsed": false
   },
   "outputs": [
    {
     "data": {
      "text/plain": [
       "(1, 1)"
      ]
     },
     "execution_count": 30,
     "metadata": {},
     "output_type": "execute_result"
    }
   ],
   "source": [
    "move = alphabeta_player(ttt, ini_state)\n",
    "move"
   ]
  },
  {
   "cell_type": "code",
   "execution_count": 31,
   "metadata": {
    "collapsed": false
   },
   "outputs": [
    {
     "name": "stdout",
     "output_type": "stream",
     "text": [
      "O . . \n",
      ". X . \n",
      ". . . \n"
     ]
    }
   ],
   "source": [
    "state = ttt.result(ini_state, ini_state.moves, move)\n",
    "ttt.display(state)"
   ]
  },
  {
   "cell_type": "code",
   "execution_count": 32,
   "metadata": {
    "collapsed": false
   },
   "outputs": [
    {
     "data": {
      "text/plain": [
       "GameState(to_move='X', utility=0, board={(1, 1): 'O', (1, 2): '.', (1, 3): '.', (2, 1): '.', (2, 2): 'X', (2, 3): '.', (3, 1): '.', (3, 2): '.', (3, 3): '.'}, moves=[(1, 2), (1, 3), (2, 1), (2, 3), (3, 1), (3, 2), (3, 3)])"
      ]
     },
     "execution_count": 32,
     "metadata": {},
     "output_type": "execute_result"
    }
   ],
   "source": [
    "state"
   ]
  },
  {
   "cell_type": "code",
   "execution_count": 33,
   "metadata": {
    "collapsed": false
   },
   "outputs": [],
   "source": [
    "class Game:\n",
    "    \"\"\"A game is similar to a problem, but it has a utility for each\n",
    "    state and a terminal test instead of a path cost and a goal\n",
    "    test. To create a game, subclass this class and implement actions,\n",
    "    result, utility, and terminal_test. You may override display and\n",
    "    successors or you can inherit their default methods. You will also\n",
    "    need to set the .initial attribute to the initial state; this can\n",
    "    be done in the constructor.\"\"\"\n",
    "\n",
    "    def actions(self, state):\n",
    "        \"\"\"Return a list of the allowable moves at this point.\"\"\"\n",
    "        raise NotImplementedError\n",
    "\n",
    "    def result(self, state, move):\n",
    "        \"\"\"Return the state that results from making a move from a state.\"\"\"\n",
    "        raise NotImplementedError\n",
    "\n",
    "    def utility(self, state, player):\n",
    "        \"\"\"Return the value of this final state to player.\"\"\"\n",
    "        raise NotImplementedError\n",
    "\n",
    "    def terminal_test(self, state):\n",
    "        \"\"\"Return True if this is a final state for the game.\"\"\"\n",
    "        return not self.actions(state)\n",
    "\n",
    "    def to_move(self, state):\n",
    "        \"\"\"Return the player whose move it is in this state.\"\"\"\n",
    "        return state.to_move\n",
    "\n",
    "    def display(self, state):\n",
    "        \"\"\"Print or otherwise display the state.\"\"\"\n",
    "        print(state)\n",
    "\n",
    "    def __repr__(self):\n",
    "        return '<{}>'.format(self.__class__.__name__)\n",
    "\n",
    "    def play_game(self, *players):\n",
    "        \"\"\"Play an n-person, move-alternating game.\"\"\"\n",
    "        state = self.initial\n",
    "        while True:\n",
    "            for player in players:\n",
    "                move = player(self, state)\n",
    "                state = self.result(state, move)\n",
    "                if self.terminal_test(state):\n",
    "                    self.display(state)\n",
    "                    return self.utility(state, self.to_move(self.initial))\n"
   ]
  },
  {
   "cell_type": "code",
   "execution_count": 34,
   "metadata": {
    "collapsed": false
   },
   "outputs": [],
   "source": [
    "class TicTacToe(Game):\n",
    "    \"\"\"Play TicTacToe on an h x v board, with Max (first player) playing 'X'.\n",
    "    A state has the player to move, a cached utility, a list of moves in\n",
    "    the form of a list of (x, y) positions, and a board, in the form of\n",
    "    a dict of {(x, y): Player} entries, where Player is 'X' or 'O'.\"\"\"\n",
    "\n",
    "    def __init__(self, h=3, v=3, k=3):\n",
    "        self.h = h\n",
    "        self.v = v\n",
    "        self.k = k\n",
    "        moves = [(x, y) for x in range(1, h + 1)\n",
    "                 for y in range(1, v + 1)]\n",
    "        self.initial = GameState(to_move='X', utility=0, board={}, moves=moves)\n",
    "\n",
    "    def actions(self, state):\n",
    "        \"\"\"Legal moves are any square not yet taken.\"\"\"\n",
    "        return state.moves\n",
    "\n",
    "    def result(self, state, move):\n",
    "        if move not in state.moves:\n",
    "            return GameState(to_move=('O' if state.to_move == 'X' else 'X'),\n",
    "                             utility=self.compute_utility(state.board, move, state.to_move),\n",
    "                             board=state.board, moves=state.moves)  # Illegal move has no effect\n",
    "        board = state.board.copy()\n",
    "        board[move] = state.to_move\n",
    "        moves = list(state.moves)\n",
    "        moves.remove(move)\n",
    "        return GameState(to_move=('O' if state.to_move == 'X' else 'X'),\n",
    "                         utility=self.compute_utility(board, move, state.to_move),\n",
    "                         board=board, moves=moves)\n",
    "\n",
    "    def utility(self, state, player):\n",
    "        \"\"\"Return the value to player; 1 for win, -1 for loss, 0 otherwise.\"\"\"\n",
    "        return state.utility if player == 'X' else -state.utility\n",
    "\n",
    "    def terminal_test(self, state):\n",
    "        \"\"\"A state is terminal if it is won or there are no empty squares.\"\"\"\n",
    "        return state.utility != 0 or len(state.moves) == 0\n",
    "\n",
    "    def display(self, state):\n",
    "        board = state.board\n",
    "        for x in range(1, self.h + 1):\n",
    "            for y in range(1, self.v + 1):\n",
    "                print(board.get((x, y), '.'), end=' ')\n",
    "            print()\n",
    "\n",
    "    def compute_utility(self, board, move, player):\n",
    "        \"\"\"If 'X' wins with this move, return 1; if 'O' wins return -1; else return 0.\"\"\"\n",
    "        if (self.k_in_row(board, move, player, (0, 1)) or\n",
    "                self.k_in_row(board, move, player, (1, 0)) or\n",
    "                self.k_in_row(board, move, player, (1, -1)) or\n",
    "                self.k_in_row(board, move, player, (1, 1))):\n",
    "            return +1 if player == 'X' else -1\n",
    "        else:\n",
    "            return 0\n",
    "\n",
    "    def k_in_row(self, board, move, player, delta_x_y):\n",
    "        \"\"\"Return true if there is a line through move on board for player.\"\"\"\n",
    "        (delta_x, delta_y) = delta_x_y\n",
    "        x, y = move\n",
    "        n = 0  # n is number of moves in row\n",
    "        while board.get((x, y)) == player:\n",
    "            n += 1\n",
    "            x, y = x + delta_x, y + delta_y\n",
    "        x, y = move\n",
    "        while board.get((x, y)) == player:\n",
    "            n += 1\n",
    "            x, y = x - delta_x, y - delta_y\n",
    "        n -= 1  # Because we counted move itself twice\n",
    "        return n >= self.k\n"
   ]
  },
  {
   "cell_type": "code",
   "execution_count": 35,
   "metadata": {
    "collapsed": false
   },
   "outputs": [
    {
     "name": "stdout",
     "output_type": "stream",
     "text": [
      ". . . \n",
      ". . . \n",
      ". . . \n"
     ]
    }
   ],
   "source": [
    "ttt = TicTacToe()\n",
    "state = ttt.initial\n",
    "ttt.display(state)"
   ]
  },
  {
   "cell_type": "markdown",
   "metadata": {},
   "source": [
    "<img src='Images/fig.5.5.png' width=70%>\n",
    "<img src='Images/pceudo_code_a_b_search_alg.png' width=70%>"
   ]
  },
  {
   "cell_type": "code",
   "execution_count": 36,
   "metadata": {
    "collapsed": true
   },
   "outputs": [],
   "source": [
    "def alphabeta_search(state, game, d=4, cutoff_test=None, eval_fn=None):\n",
    "    \"\"\"Search game to determine best action; use alpha-beta pruning.\n",
    "    This version cuts off search and uses an evaluation function.\"\"\"\n",
    "\n",
    "    player = game.to_move(state)\n",
    "\n",
    "    # Functions used by alphabeta\n",
    "    def max_value(state, alpha, beta, depth):\n",
    "        if cutoff_test(state, depth):\n",
    "            return eval_fn(state)\n",
    "        v = -infinity\n",
    "        for a in game.actions(state):\n",
    "            v = max(v, min_value(game.result(state, a),\n",
    "                                 alpha, beta, depth + 1))\n",
    "            if v >= beta:\n",
    "                return v\n",
    "            alpha = max(alpha, v)\n",
    "        return v\n",
    "\n",
    "    def min_value(state, alpha, beta, depth):\n",
    "        if cutoff_test(state, depth):\n",
    "            return eval_fn(state)\n",
    "        v = infinity\n",
    "        for a in game.actions(state):\n",
    "            v = min(v, max_value(game.result(state, a),\n",
    "                                 alpha, beta, depth + 1))\n",
    "            if v <= alpha:\n",
    "                return v\n",
    "            beta = min(beta, v)\n",
    "        return v\n",
    "\n",
    "    # Body of alphabeta_search starts here:\n",
    "    # The default test cuts off at depth d or at a terminal state\n",
    "    cutoff_test = (cutoff_test or\n",
    "                   (lambda state, depth: depth > d or\n",
    "                    game.terminal_test(state)))\n",
    "    eval_fn = eval_fn or (lambda state: game.utility(state, player))\n",
    "    best_score = -infinity\n",
    "    beta = infinity\n",
    "    best_action = None\n",
    "    for a in game.actions(state):\n",
    "        v = min_value(game.result(state, a), best_score, beta, 1)\n",
    "        if v > best_score:\n",
    "            best_score = v\n",
    "            best_action = a\n",
    "    return best_action\n"
   ]
  },
  {
   "cell_type": "code",
   "execution_count": 37,
   "metadata": {
    "collapsed": true
   },
   "outputs": [],
   "source": [
    "def alphabeta_player(game, state):\n",
    "    return alphabeta_search(state, game)"
   ]
  },
  {
   "cell_type": "code",
   "execution_count": 38,
   "metadata": {
    "collapsed": false
   },
   "outputs": [
    {
     "name": "stdout",
     "output_type": "stream",
     "text": [
      "O O O \n",
      "X X . \n",
      ". X . \n"
     ]
    },
    {
     "data": {
      "text/plain": [
       "-1"
      ]
     },
     "execution_count": 38,
     "metadata": {},
     "output_type": "execute_result"
    }
   ],
   "source": [
    "ttt.play_game(random_player, alphabeta_player)"
   ]
  },
  {
   "cell_type": "code",
   "execution_count": 39,
   "metadata": {
    "collapsed": true
   },
   "outputs": [],
   "source": [
    "class ConnectFour(TicTacToe):\n",
    "    \"\"\"A TicTacToe-like game in which you can only make a move on the bottom\n",
    "    row, or in a square directly above an occupied square.  Traditionally\n",
    "    played on a 7x6 board and requiring 4 in a row.\"\"\"\n",
    "\n",
    "    def __init__(self, h=7, v=6, k=4):\n",
    "        TicTacToe.__init__(self, h, v, k)\n",
    "\n",
    "    def actions(self, state):\n",
    "        return [(x, y) for (x, y) in state.moves\n",
    "                if y == 1 or (x, y - 1) in state.board]"
   ]
  },
  {
   "cell_type": "code",
   "execution_count": 42,
   "metadata": {
    "collapsed": false
   },
   "outputs": [],
   "source": [
    "ttt_four = ConnectFour()"
   ]
  },
  {
   "cell_type": "code",
   "execution_count": 43,
   "metadata": {
    "collapsed": false
   },
   "outputs": [
    {
     "name": "stdout",
     "output_type": "stream",
     "text": [
      ". . . . . . \n",
      ". . . . . . \n",
      ". . . . . . \n",
      ". . . . . . \n",
      ". . . . . . \n",
      ". . . . . . \n",
      ". . . . . . \n"
     ]
    }
   ],
   "source": [
    "state = ttt_four.initial\n",
    "ttt_four.display(state)"
   ]
  },
  {
   "cell_type": "code",
   "execution_count": 45,
   "metadata": {
    "collapsed": false
   },
   "outputs": [
    {
     "name": "stdout",
     "output_type": "stream",
     "text": [
      "O O O O . . \n",
      ". . . . . . \n",
      ". . . . . . \n",
      "X X . . . . \n",
      "O . . . . . \n",
      "X . . . . . \n",
      "X X . . . . \n"
     ]
    },
    {
     "data": {
      "text/plain": [
       "-1"
      ]
     },
     "execution_count": 45,
     "metadata": {},
     "output_type": "execute_result"
    }
   ],
   "source": [
    "ttt_four.play_game(random_player, alphabeta_player)"
   ]
  },
  {
   "cell_type": "code",
   "execution_count": 46,
   "metadata": {
    "collapsed": false
   },
   "outputs": [
    {
     "name": "stdout",
     "output_type": "stream",
     "text": [
      "X O X O X O \n",
      "X O X O X O \n",
      "X X O X O X \n",
      "O O O X O X \n",
      "X O X O X O \n",
      "X O X O X O \n",
      "X O . . . . \n"
     ]
    },
    {
     "data": {
      "text/plain": [
       "-1"
      ]
     },
     "execution_count": 46,
     "metadata": {},
     "output_type": "execute_result"
    }
   ],
   "source": [
    "ttt_four.play_game(alphabeta_player, alphabeta_player)"
   ]
  },
  {
   "cell_type": "code",
   "execution_count": 48,
   "metadata": {
    "collapsed": false
   },
   "outputs": [
    {
     "name": "stdout",
     "output_type": "stream",
     "text": [
      "O O O O . . \n",
      "X . . . . . \n",
      ". . . . . . \n",
      "X . . . . . \n",
      "X . . . . . \n",
      "X . . . . . \n",
      ". . . . . . \n"
     ]
    },
    {
     "data": {
      "text/plain": [
       "-1"
      ]
     },
     "execution_count": 48,
     "metadata": {},
     "output_type": "execute_result"
    }
   ],
   "source": [
    "ttt_four.play_game(random_player, alphabeta_player)"
   ]
  },
  {
   "cell_type": "code",
   "execution_count": null,
   "metadata": {
    "collapsed": true
   },
   "outputs": [],
   "source": []
  }
 ],
 "metadata": {
  "kernelspec": {
   "display_name": "Python 3",
   "language": "python",
   "name": "python3"
  },
  "language_info": {
   "codemirror_mode": {
    "name": "ipython",
    "version": 3
   },
   "file_extension": ".py",
   "mimetype": "text/x-python",
   "name": "python",
   "nbconvert_exporter": "python",
   "pygments_lexer": "ipython3",
   "version": "3.6.0"
  }
 },
 "nbformat": 4,
 "nbformat_minor": 2
}
